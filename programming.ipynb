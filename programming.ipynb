{
  "nbformat": 4,
  "nbformat_minor": 0,
  "metadata": {
    "colab": {
      "name": "programming",
      "provenance": [],
      "authorship_tag": "ABX9TyOAlNJFAKQ9n+8rl+kqacQE",
      "include_colab_link": true
    },
    "kernelspec": {
      "name": "python3",
      "display_name": "Python 3"
    }
  },
  "cells": [
    {
      "cell_type": "markdown",
      "metadata": {
        "id": "view-in-github",
        "colab_type": "text"
      },
      "source": [
        "<a href=\"https://colab.research.google.com/github/45-5DC/class2021Spring/blob/main/programming.ipynb\" target=\"_parent\"><img src=\"https://colab.research.google.com/assets/colab-badge.svg\" alt=\"Open In Colab\"/></a>"
      ]
    },
    {
      "cell_type": "markdown",
      "metadata": {
        "id": "tBcv41SUozrp"
      },
      "source": [
        "# 컴퓨터 언어\r\n"
      ]
    },
    {
      "cell_type": "markdown",
      "metadata": {
        "id": "fAbq6oB7o9cg"
      },
      "source": [
        "## 변수(variable)\r\n",
        "인간의 언어에서 단어 같은 역할\r\n",
        "\r\n",
        "a = 1\r\n",
        "\r\n",
        "b = 2\r\n",
        "\r\n",
        "c = 'love'\r\n",
        "\r\n",
        "등호의 의미: 오른쪽의 내용을 왼쪽에 assign하는 것(같다는 의미가 아님)\r\n",
        "\r\n",
        "\r\n",
        "왼쪽에 있는 것이 변수, 오른쪽에 있는 것이 내용\r\n",
        "\r\n",
        "\r\n",
        "\r\n",
        "\r\n"
      ]
    },
    {
      "cell_type": "markdown",
      "metadata": {
        "id": "C8VHb_gypvS6"
      },
      "source": [
        "## 제어문\r\n",
        "인간의 언어에서 문법과 같은 역할\r\n",
        "\r\n",
        "\r\n",
        "1.   반복: for\r\n",
        "2.   조건: if\r\n",
        "\r\n"
      ]
    },
    {
      "cell_type": "markdown",
      "metadata": {
        "id": "QbQ89qYSp6F_"
      },
      "source": [
        "## 함수\r\n",
        "입출력 관계\r\n",
        "input을 넣으면 output이 나오는데, 그 변화 과정에서 함수(function)가 작용\r\n",
        "\r\n",
        "y = f(x)의 형태"
      ]
    }
  ]
}