{
  "nbformat": 4,
  "nbformat_minor": 0,
  "metadata": {
    "colab": {
      "name": "20210331.ipynb",
      "provenance": [],
      "authorship_tag": "ABX9TyPqkm/J5hhc6yj4/cf8EA5x",
      "include_colab_link": true
    },
    "kernelspec": {
      "name": "python3",
      "display_name": "Python 3"
    },
    "language_info": {
      "name": "python"
    }
  },
  "cells": [
    {
      "cell_type": "markdown",
      "metadata": {
        "id": "view-in-github",
        "colab_type": "text"
      },
      "source": [
        "<a href=\"https://colab.research.google.com/github/45-5DC/class2021Spring/blob/main/20210331.ipynb\" target=\"_parent\"><img src=\"https://colab.research.google.com/assets/colab-badge.svg\" alt=\"Open In Colab\"/></a>"
      ]
    },
    {
      "cell_type": "markdown",
      "metadata": {
        "id": "derdvYri4VGW"
      },
      "source": [
        "[ㅏ]  \n",
        "pitch: 130.7 Hz  \n",
        "intensity: 61.36 dB  \n",
        "formant: 699.7 Hz / 1125 Hz  \n",
        "duration: 0.523376 sec.\n",
        "\n",
        "\n",
        "[ㅐ]  \n",
        "pitch: 128.1 Hz  \n",
        "intensity: 62.75 dB  \n",
        "formant: 495 Hz / 1628 Hz  \n",
        "duration: 0.509231 sec.\n"
      ]
    }
  ]
}